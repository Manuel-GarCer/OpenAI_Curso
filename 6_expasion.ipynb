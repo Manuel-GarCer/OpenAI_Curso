{
 "cells": [
  {
   "attachments": {},
   "cell_type": "markdown",
   "metadata": {},
   "source": [
    "# Expandiendo\n",
    "En esta lección, generará correos electrónicos de atención al cliente adaptados a la revisión de cada cliente.\n",
    "\n",
    "Configurar"
   ]
  },
  {
   "cell_type": "code",
   "execution_count": 10,
   "metadata": {},
   "outputs": [],
   "source": [
    "import openai\n",
    "\n",
    "\n",
    "from IPython.display import display, HTML, Markdown, JSON\n",
    "\n",
    "openai.api_key = \"TU_API_KEY creada en https://platform.openai.com\"\n",
    "\n",
    "def get_completion(prompt, model=\"gpt-3.5-turbo\"):\n",
    "    messages = [{\"role\": \"user\", \"content\": prompt}]\n",
    "    response = openai.ChatCompletion.create(\n",
    "        model=model,\n",
    "        messages=messages,\n",
    "        temperature=0, # es el grado de aleatoriedad de los resultados del modelo\n",
    "    )\n",
    "    return response.choices[0].message[\"content\"]"
   ]
  },
  {
   "attachments": {},
   "cell_type": "markdown",
   "metadata": {},
   "source": [
    "Personalizar la respuesta automática al correo electrónico de un cliente"
   ]
  },
  {
   "cell_type": "code",
   "execution_count": 12,
   "metadata": {},
   "outputs": [],
   "source": [
    "# dado el sentimiento de la lección sobre \"inferir\",\n",
    "# y el mensaje original del cliente, personaliza el email\n",
    "sentiment = \"negativo\"\n",
    "\n",
    "# review for a blender\n",
    "review = f\"\"\"\n",
    "Por lo tanto, todavía tenía el sistema de 17 piezas en temporada \\\n",
    "venta por alrededor de $ 49 en el mes de noviembre, sobre \\\n",
    "la mitad de descuento, pero por alguna razón (llámalo gouging precio) \\\n",
    "alrededor de la segunda semana de diciembre todos los precios subieron\n",
    "hasta alrededor en cualquier lugar entre $ 70- $ 89 para el mismo sistema Y el sistema de 11 piezas subió alrededor de $ 10 o más\n",
    "así que en el precio también desde el precio de venta anterior de $ 29.\n",
    "Así que se ve bien, pero si nos fijamos en la base, la parte...\n",
    "donde la hoja se bloquea en su lugar no se ve tan bien\n",
    "como en ediciones anteriores de hace unos años, pero yo hice un \\\n",
    "plan para ser muy suave con ella (por ejemplo, yo aplaste \\\n",
    "muy duros, como judías, hielo, arroz, etc., primero en la \n",
    "en la licuadora, luego los pulverizo en la porción \\\n",
    "en la batidora, luego cambio a la cuchilla para batir\n",
    "para obtener una harina más fina, y utilice la cuchilla de corte transversal \\\n",
    "primero cuando haga batidos, luego uso la cuchilla plana \\\n",
    "si los necesito más finos/menos pulposos). Consejo especial\n",
    "batidos, cortar finamente y congelar las frutas y \\\n",
    "verduras (si usas espinacas, cocínalas ligeramente para ablandarlas y congélalas hasta que estén listas \n",
    "las espinacas su uso).\n",
    "utiliza un sorberte de cocina pequeño o mediano) \\ \n",
    "así evitará añadir tanto hielo, si es que lo hace.\n",
    "mucho hielo -si es que lo hay- al hacer el batido. \\\n",
    "Al cabo de un año, el motor empezó a hacer un ruido raro. \\\n",
    "Llamé al servicio de atención al cliente, pero la garantía ya había expirado.\n",
    "así que tuve que comprar otra. Para su información\n",
    "la calidad general de este tipo de productos ha bajado, así que\n",
    "son una especie de contar con el reconocimiento de marca y \\\n",
    "lealtad del consumidor para mantener las ventas. Lo tengo en unos\n",
    "dos días.\n",
    "\"\"\""
   ]
  },
  {
   "cell_type": "code",
   "execution_count": 4,
   "metadata": {},
   "outputs": [
    {
     "name": "stdout",
     "output_type": "stream",
     "text": [
      "Estimado cliente,\n",
      "\n",
      "Gracias por compartir su opinión sobre nuestro sistema de 17 piezas. Lamentamos mucho que haya experimentado un aumento de precios en diciembre y que la calidad del producto no haya cumplido con sus expectativas. Nos disculpamos sinceramente por cualquier inconveniente que esto haya causado.\n",
      "\n",
      "Le agradecemos por sus consejos sobre cómo utilizar el sistema de manera más efectiva y apreciamos su lealtad a nuestra marca. Sin embargo, entendemos que su experiencia no ha sido satisfactoria y nos gustaría ofrecerle una solución. Le recomendamos que se ponga en contacto con nuestro servicio de atención al cliente para que podamos ayudarlo a resolver cualquier problema que tenga con su producto.\n",
      "\n",
      "Esperamos tener la oportunidad de recuperar su confianza en nuestra marca y en nuestros productos. Si tiene alguna otra pregunta o inquietud, no dude en ponerse en contacto con nosotros.\n",
      "\n",
      "Atentamente,\n",
      "Agente de atención al cliente de AI\n"
     ]
    }
   ],
   "source": [
    "prompt = f\"\"\"\n",
    " Eres un asistente de atención al cliente.\n",
    "Su tarea consiste en enviar un correo electrónico de respuesta a un valioso cliente.\n",
    "Dado el email del cliente delimitado por ```, \\\n",
    "Genera una respuesta para agradecer al cliente su opinión.\n",
    "Si el sentimiento es positivo o neutro, agradézcale su opinión.\n",
    "su opinión.\n",
    "Si el sentimiento es negativo, disculparse y sugerir que \\\n",
    "que se pongan en contacto con el servicio de atención al cliente. \n",
    "Asegúrate de utilizar detalles concretos de la opinión.\n",
    "Escribe en un tono conciso y profesional.\n",
    "Firma el correo electrónico como \"Agente de atención al cliente de AI\".\n",
    "Opinión del cliente: ```{review}```\n",
    "Opinión del cliente:{sentiment}\n",
    "\"\"\"\n",
    "response = get_completion(prompt)\n",
    "print(response)"
   ]
  },
  {
   "attachments": {},
   "cell_type": "markdown",
   "metadata": {},
   "source": [
    "\n",
    "Recuerda al modelo que debe utilizar los datos del correo electrónico del cliente"
   ]
  },
  {
   "cell_type": "code",
   "execution_count": null,
   "metadata": {},
   "outputs": [],
   "source": [
    "prompt = f\"\"\"\n",
    "Eres un asistente de atención al cliente.\n",
    "Su tarea consiste en enviar un correo electrónico de respuesta a un valioso cliente.\n",
    "Dado el email del cliente delimitado por ```, \\\n",
    "Genera una respuesta para agradecer al cliente su opinión.\n",
    "Si el sentimiento es positivo o neutro, agradézcale su opinión.\n",
    "su opinión.\n",
    "Si el sentimiento es negativo, disculparse y sugerir que \\\n",
    "que se pongan en contacto con el servicio de atención al cliente. \n",
    "Asegúrate de utilizar detalles concretos de la opinión.\n",
    "Escribe en un tono conciso y profesional.\n",
    "Firma el correo electrónico como \"Agente de atención al cliente de AI\".\n",
    "Opinión del cliente: ```{review}```\n",
    "Opinión del cliente:{sentiment}\n",
    "\"\"\"\n",
    "response = get_completion (prompt,\n",
    "                           temperature= 0.7)\n",
    "print(response)"
   ]
  }
 ],
 "metadata": {
  "kernelspec": {
   "display_name": "Python 3",
   "language": "python",
   "name": "python3"
  },
  "language_info": {
   "codemirror_mode": {
    "name": "ipython",
    "version": 3
   },
   "file_extension": ".py",
   "mimetype": "text/x-python",
   "name": "python",
   "nbconvert_exporter": "python",
   "pygments_lexer": "ipython3",
   "version": "3.11.2"
  },
  "orig_nbformat": 4
 },
 "nbformat": 4,
 "nbformat_minor": 2
}
