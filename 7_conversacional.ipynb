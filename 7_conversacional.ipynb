{
 "cells": [
  {
   "attachments": {},
   "cell_type": "markdown",
   "metadata": {},
   "source": [
    "# El formato de chat\n",
    "En este cuaderno, explorarás cómo puedes utilizar el formato de chat para tener conversaciones extendidas con chatbots personalizados o especializados para tareas o comportamientos específicos.\n",
    "\n",
    "Configuración"
   ]
  },
  {
   "cell_type": "code",
   "execution_count": 32,
   "metadata": {},
   "outputs": [],
   "source": [
    "import openai\n",
    "import config\n",
    "import os\n",
    "\n",
    "from IPython.display import display, HTML\n",
    "\n",
    "openai.api_key = config.api_key\n",
    "\n",
    "\n",
    "def get_completion(prompt, model=\"gpt-3.5-turbo\"):\n",
    "    messages = [{\"role\": \"user\", \"content\": prompt}]\n",
    "    response = openai.ChatCompletion.create(\n",
    "        model=model,\n",
    "        messages=messages,\n",
    "        temperature=0, # es el grado de aleatoriedad de los resultados del modelo\n",
    "    )\n",
    "    return response.choices[0].message[\"content\"]\n",
    "\n",
    "def get_completion_from_messages(messages, model=\"gpt-3.5-turbo\", temperature=0):\n",
    "    response = openai.ChatCompletion.create(\n",
    "        model=model,\n",
    "        messages=messages,\n",
    "        temperature=temperature, # es el grado de aleatoriedad de los resultados del modelo\n",
    "    )\n",
    "    # print(str(response.choices[0].message))\n",
    "    return response.choices[0].message[\"content\"]"
   ]
  },
  {
   "cell_type": "code",
   "execution_count": 8,
   "metadata": {},
   "outputs": [],
   "source": [
    "messages =  [  \n",
    "{'role':'system', 'content':'Eres un asistente que habla como Chespirito.'},    \n",
    "{'role':'user', 'content':'cuéntame un chiste'},   \n",
    "{'role':'assistant', 'content':'¿Por qué cruzó la gallina la carretera?'},   \n",
    "{'role':'user', 'content':'No lo sé.'}  ]"
   ]
  },
  {
   "cell_type": "code",
   "execution_count": 9,
   "metadata": {},
   "outputs": [
    {
     "name": "stdout",
     "output_type": "stream",
     "text": [
      "Para llegar al otro lado, ¡fue una decisión muy arriesgada! Ja, ja, ja.\n"
     ]
    }
   ],
   "source": [
    "response = get_completion_from_messages(messages, temperature=1)\n",
    "print(response)"
   ]
  },
  {
   "cell_type": "code",
   "execution_count": 11,
   "metadata": {},
   "outputs": [
    {
     "name": "stdout",
     "output_type": "stream",
     "text": [
      "¡Hola Manolo! Mucho gusto en conocerte, ¿cómo estás hoy? Si necesitas algo, estoy aquí para ayudarte en lo que pueda.\n"
     ]
    }
   ],
   "source": [
    "messages =  [  \n",
    "{'role':'system', 'content':'Eres un chatbot amistoso.'},    \n",
    "{'role':'user', 'content':'Hola, me llamo Manolo'}  ]\n",
    "response = get_completion_from_messages(messages, temperature=1)\n",
    "print(response)"
   ]
  },
  {
   "cell_type": "code",
   "execution_count": null,
   "metadata": {},
   "outputs": [],
   "source": [
    "messages =  [  \n",
    "{'role':'system', 'content':'Eres un chatbot amistoso.'},    \n",
    "{'role':'user', 'contenido':'Sí, ¿puede recordarme, Cuál es mi nombre?'}  ]\n",
    "response = get_completion_from_messages(messages, temperature=1)\n",
    "print(response)"
   ]
  },
  {
   "cell_type": "code",
   "execution_count": 15,
   "metadata": {},
   "outputs": [
    {
     "name": "stdout",
     "output_type": "stream",
     "text": [
      "Tu nombre es Manolo, ¡lo mencionaste al principio de nuestra conversación! ¿Hay algo más en lo que pueda ayudarte, Manolo?\n"
     ]
    }
   ],
   "source": [
    "messages =  [  \n",
    "{'role':'system', 'content':'Eres un chatbot amistoso.'},\n",
    "{'role':'user', 'content':'Hola, me llamo Manolo'},\n",
    "{'role':'assistant', 'content': \"¡Hola Manolo! Encantada de conocerte. \\\n",
    "¿Hay algo en lo que pueda ayudarte hoy?\"},\n",
    "{'role':'user', 'content':'Sí, puedes recordarme, ¿Cuál es mi nombre??'}  ]\n",
    "response = get_completion_from_messages(messages, temperature=1)\n",
    "print(response)"
   ]
  },
  {
   "attachments": {},
   "cell_type": "markdown",
   "metadata": {},
   "source": [
    " # OrderBot\n",
    "Podemos automatizar la recopilación de las preguntas del usuario y las respuestas del asistente para construir un OrderBot. El OrderBot tomará pedidos en una pizzería.\n"
   ]
  },
  {
   "cell_type": "code",
   "execution_count": null,
   "metadata": {},
   "outputs": [],
   "source": [
    "import panel as pn  # GUI\n",
    "pn.extension()\n",
    "\n",
    "inp = pn.widgets.TextInput(value=\"Hi\", placeholder='Enter text here…')\n",
    "\n",
    "panels = [] # collect display\n",
    "\n",
    "\n",
    "def collect_messages(_):\n",
    "    prompt = inp.value_input\n",
    "    inp.value = ''\n",
    "    context.append({'role':'user', 'content':f\"{prompt}\"})\n",
    "    response = get_completion_from_messages(context) \n",
    "    context.append({'role':'assistant', 'content':f\"{response}\"})\n",
    "    panels.append(\n",
    "        pn.Row('User:', pn.pane.Markdown(prompt, width=600)))\n",
    "    panels.append(\n",
    "        pn.Row('Assistant:', pn.pane.Markdown(response, width=600, style={'background-color': '#F6F6F6'})))\n",
    " \n",
    "    return pn.Column(*panels)"
   ]
  },
  {
   "cell_type": "code",
   "execution_count": null,
   "metadata": {},
   "outputs": [],
   "source": [
    "import panel as pn  # GUI\n",
    "pn.extension()\n",
    "\n",
    "panels = [] # collect display \n",
    "\n",
    "context = [ {'role':'system', 'content':\"\"\"\n",
    "Eres OrderBot, un servicio automatizado de recogida de pedidos para una pizzería. \\\n",
    "Primero saludas al cliente, luego recoges el pedido, \\\n",
    "y luego preguntas si es para recoger o para entregar. \\\n",
    "Esperas a recoger todo el pedido, luego lo resumes y compruebas por última \\\n",
    "vez si el cliente quiere añadir algo más. \\\n",
    "Si es una entrega, pide una dirección. \\\n",
    "Por último, recoge el pago.\n",
    "Asegúrate de aclarar todas las opciones, extras y tallas para identificar de forma única el artículo del menú.\n",
    "identificar el artículo del menú.\n",
    "Respondes con un estilo breve, muy conversacional y amigable. \\\n",
    "El menú incluye\n",
    "Pizza de pepperoni 12.95, 10.00, 7.00 \n",
    "pizza de queso 10.95, 9.25, 6.50 \\\n",
    "pizza de berenjena 11.95, 9.75, 6.75 \\\n",
    "patatas fritas 4.50, 3.50 \\\n",
    "ensalada griega 7.25\n",
    "Ingredientes: \\\n",
    "queso extra 2.00, \\\n",
    "champiñones 1.50\n",
    "salchicha 3.00\n",
    "bacon canadiense 3.50\n",
    "salsa AI 1.50\n",
    "pimientos 1.00\n",
    "Bebidas: \\\n",
    "coca cola 3.00, 2.00, 1.00\n",
    "sprite 3.00, 2.00, 1.00 \\\n",
    "agua embotellada 5,00\n",
    "\"\"\"} ]  # accumulate messages\n",
    "\n",
    "\n",
    "inp = pn.widgets.TextInput(value=\"Hi\", placeholder='Enter text here…')\n",
    "button_conversation = pn.widgets.Button(name=\"Chat!\")\n",
    "\n",
    "interactive_conversation = pn.bind(collect_messages, button_conversation)\n",
    "\n",
    "dashboard = pn.Column(\n",
    "    inp,\n",
    "    pn.Row(button_conversation),\n",
    "    pn.panel(interactive_conversation, loading_indicator=True, height=300),\n",
    ")\n",
    "\n",
    "dashboard"
   ]
  },
  {
   "cell_type": "code",
   "execution_count": null,
   "metadata": {},
   "outputs": [],
   "source": [
    "import panel as pn  # GUI\n",
    "pn.extension()\n",
    "\n",
    "inp = pn.widgets.TextInput(value=\"Hi\", placeholder='Enter text here…')\n",
    "\n",
    "panels = [] # collect display\n",
    "\n",
    "\n",
    "def collect_messages(_):\n",
    "    prompt = inp.value_input\n",
    "    inp.value = ''\n",
    "    context.append({'role':'user', 'content':f\"{prompt}\"})\n",
    "    response = get_completion_from_messages(context) \n",
    "    context.append({'role':'assistant', 'content':f\"{response}\"})\n",
    "    panels.append(\n",
    "        pn.Row('User:', pn.pane.Markdown(prompt, width=600)))\n",
    "    panels.append(\n",
    "        pn.Row('Assistant:', pn.pane.Markdown(response, width=600, style={'background-color': '#F6F6F6'})))\n",
    " \n",
    "    return pn.Column(*panels)"
   ]
  },
  {
   "cell_type": "code",
   "execution_count": null,
   "metadata": {},
   "outputs": [],
   "source": [
    "messages =  context.copy()\n",
    "messages.append(\n",
    "{'role':'system', 'content':'create a json summary of the previous food order. Itemize the price for each item\\\n",
    " The fields should be 1) pizza, include size 2) list of toppings 3) list of drinks, include size   4) list of sides include size  5)total price '},    \n",
    ")\n",
    " #Los campos deben ser 1) pizza, precio 2) lista de ingredientes 3) lista de bebidas, incluir tamaño incluir precio 4) lista de acompañamientos incluir tamaño incluir precio, 5)precio total '},    \n",
    "\n",
    "response = get_completion_from_messages(messages, temperature=0)\n",
    "print(response)"
   ]
  }
 ],
 "metadata": {
  "kernelspec": {
   "display_name": "Python 3",
   "language": "python",
   "name": "python3"
  },
  "language_info": {
   "codemirror_mode": {
    "name": "ipython",
    "version": 3
   },
   "file_extension": ".py",
   "mimetype": "text/x-python",
   "name": "python",
   "nbconvert_exporter": "python",
   "pygments_lexer": "ipython3",
   "version": "3.11.2"
  },
  "orig_nbformat": 4
 },
 "nbformat": 4,
 "nbformat_minor": 2
}
