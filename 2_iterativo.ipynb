{
 "cells": [
  {
   "attachments": {},
   "cell_type": "markdown",
   "metadata": {},
   "source": [
    "# Desarrollo iterativo de instrucciones\n",
    "\n"
   ]
  },
  {
   "attachments": {},
   "cell_type": "markdown",
   "metadata": {},
   "source": [
    "En esta lección, analizará y perfeccionará de forma iterativa sus instrucciones para generar textos de marketing a partir de una ficha de producto.\n"
   ]
  },
  {
   "cell_type": "code",
   "execution_count": 1,
   "metadata": {},
   "outputs": [],
   "source": [
    "import openai\n",
    "import config\n",
    "import os\n",
    "\n",
    "from IPython.display import display, HTML\n",
    "\n",
    "\n",
    "openai.api_key = config.api_key\n",
    "\n",
    "\n",
    "def get_completion(prompt, model=\"gpt-3.5-turbo\"):\n",
    "    messages = [{\"role\": \"user\", \"content\": prompt}]\n",
    "    response = openai.ChatCompletion.create(\n",
    "        model=model,\n",
    "        messages=messages,\n",
    "        temperature=0, # es el grado de aleatoriedad de los resultados del modelo\n",
    "    )\n",
    "    return response.choices[0].message[\"content\"]"
   ]
  },
  {
   "attachments": {},
   "cell_type": "markdown",
   "metadata": {},
   "source": [
    "Generar una descripción de producto de marketing a partir de una ficha de producto"
   ]
  },
  {
   "cell_type": "code",
   "execution_count": 2,
   "metadata": {},
   "outputs": [
    {
     "name": "stdout",
     "output_type": "stream",
     "text": [
      "La silla SWC-100/110 es parte de una hermosa familia de muebles de oficina de inspiración de mediados de siglo, que incluye archivadores, escritorios, librerías, mesas de reuniones y mucho más. Esta silla está disponible en varias opciones de color de carcasa y acabados de base, y se puede elegir con respaldo de plástico y tapizado frontal o tapizado completo en 10 opciones de tela y 6 de piel. Las opciones de acabado de la base son: acero inoxidable, negro mate, blanco brillante o cromado. La silla está disponible con o sin reposabrazos y es adecuada para uso doméstico o profesional, así como para uso contractual.\n",
      "\n",
      "La construcción de la silla incluye una base de aluminio plastificado de 5 ruedas y un ajuste neumático para subir/bajar fácilmente. Las dimensiones de la silla son 53 cm de ancho, 51 cm de profundidad y 80 cm de altura, con una altura de asiento de 44 cm y una profundidad de asiento de 41 cm.\n",
      "\n",
      "La silla SWC-100/110 también ofrece opciones de ruedas para suelo blando o duro, dos opciones de densidades de espuma de asiento (media o alta) y reposabrazos de PU de 8 posiciones o sin brazos. La carcasa base deslizante está hecha de aluminio fundido con revestimiento de nailon modificado PA6/PA66 y tiene un grosor de 10 mm. El asiento está hecho de espuma HD36.\n",
      "\n",
      "Esta silla de alta calidad es de origen italiano y es una excelente opción para cualquier espacio de oficina o estudio en el hogar.\n"
     ]
    }
   ],
   "source": [
    "fact_sheet_chair = \"\"\"\n",
    "VISIÓN GENERAL\n",
    "- Parte de una hermosa familia de muebles de oficina de inspiración de mediados de siglo, \n",
    "que incluye archivadores, escritorios, librerías, mesas de reuniones y mucho más.\n",
    "- Varias opciones de color de carcasa y acabados de base.\n",
    "- Disponible con respaldo de plástico y tapizado frontal (SWC-100) \n",
    "o tapizado completo (SWC-110) en 10 opciones de tela y 6 de piel.\n",
    "- Las opciones de acabado de la base son: acero inoxidable, negro mate \n",
    "blanco brillante o cromado.\n",
    "- La silla está disponible con o sin reposabrazos.\n",
    "- Adecuada para uso doméstico o profesional.\n",
    "- Apta para uso contractual.\n",
    "\n",
    "CONSTRUCCIÓN\n",
    "- Base de aluminio plastificado de 5 ruedas.\n",
    "- Ajuste neumático de la silla para subir/bajar fácilmente.\n",
    "\n",
    "DIMENSIONES\n",
    "- ANCHO 53 CM | 20.87\"\n",
    "- PROFUNDIDAD 51 CM | 20.08\"\n",
    "- ALTURA 80 CM | 31.50\"\n",
    "- ALTURA DEL ASIENTO 44 CM | 17.32\"\n",
    "- PROFUNDIDAD DEL ASIENTO 41 CM | 16.14\"\n",
    "\n",
    "OPCIONES\n",
    "- Opciones de ruedas para suelo blando o duro.\n",
    "- Dos opciones de densidades de espuma de asiento: \n",
    " media (1,8 lb/ft3) o alta (2,8 lb/ft3)\n",
    "- Reposabrazos de PU de 8 posiciones o sin brazos \n",
    "\n",
    "MATERIALES\n",
    "CARCASA BASE DESLIZANTE\n",
    "- Aluminio fundido con revestimiento de nailon modificado PA6/PA66.\n",
    "- Grosor de la carcasa: 10 mm.\n",
    "ASIENTO\n",
    "- Espuma HD36\n",
    "\n",
    "PAÍS DE ORIGEN\n",
    "- Italia\n",
    "\"\"\"\n",
    "\n",
    "prompt = f\"\"\"\n",
    "Su tarea consiste en ayudar a un equipo de marketing a crear una \n",
    "descripción del producto para un sitio web \n",
    "en una ficha técnica.\n",
    "\n",
    "Escriba una descripción del producto basada en la información \n",
    "proporcionada en la ficha técnica delimitada por \n",
    "triple comilla\n",
    "\n",
    "Ficha técnica: ```{fact_sheet_chair}```\n",
    "\"\"\"\n",
    "response = get_completion(prompt)\n",
    "print(response)\n"
   ]
  },
  {
   "attachments": {},
   "cell_type": "markdown",
   "metadata": {},
   "source": [
    "Problema 1: El texto es demasiado largo\n",
    "Limite el número de palabras/sentencias/caracteres."
   ]
  },
  {
   "cell_type": "code",
   "execution_count": 5,
   "metadata": {},
   "outputs": [
    {
     "name": "stdout",
     "output_type": "stream",
     "text": [
      "La silla de oficina de mediados de siglo es parte de una hermosa familia de muebles de oficina. Disponible en varias opciones de color de carcasa y acabados de base, con respaldo de plástico y tapizado frontal o tapizado completo en 10 opciones de tela y 6 de piel. La silla está disponible con o sin reposabrazos y es adecuada para uso doméstico o profesional. La base de aluminio plastificado de 5 ruedas y el ajuste neumático de la silla permiten subir/bajar fácilmente.\n"
     ]
    },
    {
     "data": {
      "text/plain": [
       "83"
      ]
     },
     "execution_count": 5,
     "metadata": {},
     "output_type": "execute_result"
    }
   ],
   "source": [
    "prompt = f\"\"\"\n",
    "Su tarea consiste en ayudar a un equipo de marketing a crear una \n",
    "descripción de un producto para un sitio web \n",
    "en una ficha técnica.\n",
    "\n",
    "Escriba una descripción del producto basada en la información \n",
    "proporcionada en la ficha técnica delimitada por \n",
    "triple comilla.\n",
    "\n",
    "Utilice un máximo de 50 palabras.\n",
    "\n",
    "Ficha técnica: ```{fact_sheet_chair}```\n",
    "\"\"\"\n",
    "response = get_completion(prompt)\n",
    "print(response)\n",
    "len(response.split(\" \"))"
   ]
  },
  {
   "attachments": {},
   "cell_type": "markdown",
   "metadata": {},
   "source": [
    "Problema 2. El texto se centra en detalles equivocados\n",
    "Pídale que se centre en los aspectos relevantes para el público al que va dirigido."
   ]
  },
  {
   "cell_type": "code",
   "execution_count": 6,
   "metadata": {},
   "outputs": [
    {
     "name": "stdout",
     "output_type": "stream",
     "text": [
      "\"La silla de oficina de mediados de siglo es parte de una hermosa familia de muebles de oficina. Con varias opciones de color de carcasa y acabados de base, la silla está disponible con respaldo de plástico y tapizado frontal o tapizado completo en 10 opciones de tela y 6 de piel. La base de aluminio plastificado de 5 ruedas y el ajuste neumático de la silla permiten subir/bajar fácilmente. La silla está disponible con o sin reposabrazos y es adecuada para uso doméstico o profesional. La silla es de origen italiano y está construida con aluminio fundido con revestimiento de nailon modificado PA6/PA66 y espuma HD36.\"\n"
     ]
    }
   ],
   "source": [
    "prompt = f\"\"\"\n",
    "Su tarea consiste en ayudar a un equipo de marketing a crear una \n",
    "descripción de un producto para un sitio web \n",
    "en una ficha técnica.\n",
    "\n",
    "Escriba una descripción del producto basada en la información \n",
    "proporcionada en la ficha técnica delimitada por \n",
    "tres comillas.\n",
    "\n",
    "La descripción está destinada a minoristas de muebles, \n",
    "por lo que debe ser de carácter técnico y centrarse en los \n",
    "materiales con los que está fabricado el producto.\n",
    "\n",
    "Utilice un máximo de 50 palabras.\n",
    "\n",
    "Especificaciones técnicas: ```{fact_sheet_chair}```\n",
    "\"\"\"\n",
    "response = get_completion(prompt)\n",
    "print(response)"
   ]
  },
  {
   "cell_type": "code",
   "execution_count": 7,
   "metadata": {},
   "outputs": [
    {
     "name": "stdout",
     "output_type": "stream",
     "text": [
      "La silla de oficina de mediados de siglo es parte de una hermosa familia de muebles que incluye archivadores, escritorios, librerías, mesas de reuniones y mucho más. Disponible en varias opciones de color de carcasa y acabados de base, con respaldo de plástico y tapizado frontal o tapizado completo en 10 opciones de tela y 6 de piel. La silla está disponible con o sin reposabrazos y es adecuada para uso doméstico o profesional. La base de aluminio plastificado de 5 ruedas y el ajuste neumático de la silla permiten subir/bajar fácilmente. Las opciones de ruedas para suelo blando o duro y dos opciones de densidades de espuma de asiento están disponibles. Reposabrazos de PU de 8 posiciones o sin brazos. La silla está hecha de aluminio fundido con revestimiento de nailon modificado PA6/PA66 y espuma HD36. ID del producto: SWC-100, SWC-110.\n"
     ]
    }
   ],
   "source": [
    "prompt = f\"\"\"\n",
    "Su tarea consiste en ayudar a un equipo de marketing a crear una \n",
    "descripción de un producto para un sitio web \n",
    "en una ficha técnica.\n",
    "\n",
    "Escriba una descripción del producto basada en la información \n",
    "proporcionada en la ficha técnica delimitada por \n",
    "tres puntos suspensivos.\n",
    "\n",
    "La descripción está destinada a minoristas de muebles, \n",
    "por lo que debe ser de carácter técnico y centrarse en los \n",
    "materiales con los que está fabricado el producto.\n",
    "\n",
    "Al final de la descripción, incluya cada uno de los 7 caracteres \n",
    "ID del producto en la especificación técnica.\n",
    "\n",
    "Utilice un máximo de 50 palabras.\n",
    "\n",
    "Especificaciones técnicas: ```{fact_sheet_chair}```\n",
    "\"\"\"\n",
    "response = get_completion(prompt)\n",
    "print(response)"
   ]
  },
  {
   "attachments": {},
   "cell_type": "markdown",
   "metadata": {},
   "source": [
    "Problema 3. La descripción necesita una tabla de dimensiones\n",
    "\n",
    "Pídele que extraiga información y la organice en una tabla."
   ]
  },
  {
   "cell_type": "code",
   "execution_count": 8,
   "metadata": {},
   "outputs": [
    {
     "name": "stdout",
     "output_type": "stream",
     "text": [
      "La silla de oficina de mediados de siglo es parte de una hermosa familia de muebles que incluye archivadores, escritorios, librerías, mesas de reuniones y mucho más. Disponible en varias opciones de color de carcasa y acabados de base, con respaldo de plástico y tapizado frontal o tapizado completo en 10 opciones de tela y 6 de piel. La silla está disponible con o sin reposabrazos y es adecuada para uso doméstico o profesional. La base de aluminio plastificado de 5 ruedas y el ajuste neumático de la silla permiten subir/bajar fácilmente. Las opciones de ruedas para suelo blando o duro y dos opciones de densidades de espuma de asiento están disponibles. Reposabrazos de PU de 8 posiciones o sin brazos. La silla está hecha de aluminio fundido con revestimiento de nailon modificado PA6/PA66 y espuma HD36. (ID del producto: SWC-100, SWC-110)\n"
     ]
    },
    {
     "data": {
      "text/html": [
       "La silla de oficina de mediados de siglo es parte de una hermosa familia de muebles que incluye archivadores, escritorios, librerías, mesas de reuniones y mucho más. Disponible en varias opciones de color de carcasa y acabados de base, con respaldo de plástico y tapizado frontal o tapizado completo en 10 opciones de tela y 6 de piel. La silla está disponible con o sin reposabrazos y es adecuada para uso doméstico o profesional. La base de aluminio plastificado de 5 ruedas y el ajuste neumático de la silla permiten subir/bajar fácilmente. Las opciones de ruedas para suelo blando o duro y dos opciones de densidades de espuma de asiento están disponibles. Reposabrazos de PU de 8 posiciones o sin brazos. La silla está hecha de aluminio fundido con revestimiento de nailon modificado PA6/PA66 y espuma HD36. (ID del producto: SWC-100, SWC-110)"
      ],
      "text/plain": [
       "<IPython.core.display.HTML object>"
      ]
     },
     "metadata": {},
     "output_type": "display_data"
    }
   ],
   "source": [
    "aviso = f\"\"\"\n",
    "Su tarea es ayudar a un equipo de marketing a crear un\n",
    "descripción para un sitio web minorista de un producto basado\n",
    "en una ficha técnica.\n",
    "\n",
    "Escriba una descripción del producto basada en la información.\n",
    "previsto en las especificaciones técnicas delimitadas por\n",
    "triple comillas.\n",
    "\n",
    "La descripción está destinada a minoristas de muebles,\n",
    "por lo que debe ser de naturaleza técnica y centrarse en la\n",
    "materiales con los que está construido el producto.\n",
    "\n",
    "Al final de la descripción, incluya cada 7 caracteres\n",
    "Identificación del producto en la especificación técnica.\n",
    "\n",
    "Después de la descripción, incluya una tabla que dé la\n",
    "dimensiones del producto. La tabla debe tener dos columnas.\n",
    "En la primera columna incluya el nombre de la dimensión.\n",
    "En la segunda columna incluya las medidas en pulgadas solamente.\n",
    "\n",
    "Asigne a la tabla el título 'Dimensiones del producto'.\n",
    "\n",
    "Formatee todo como HTML que se pueda usar en un sitio web.\n",
    "Coloque la descripción en un elemento <div>.\n",
    "\n",
    "Especificaciones técnicas: ```{fact_sheet_chair}```\n",
    "\"\"\"\n",
    "\n",
    "response = get_completion(prompt)\n",
    "print (response)\n",
    "display(HTML(response))"
   ]
  },
  {
   "attachments": {},
   "cell_type": "markdown",
   "metadata": {},
   "source": [
    "Cargar bibliotecas Python para ver HTML"
   ]
  }
 ],
 "metadata": {
  "kernelspec": {
   "display_name": "Python 3",
   "language": "python",
   "name": "python3"
  },
  "language_info": {
   "codemirror_mode": {
    "name": "ipython",
    "version": 3
   },
   "file_extension": ".py",
   "mimetype": "text/x-python",
   "name": "python",
   "nbconvert_exporter": "python",
   "pygments_lexer": "ipython3",
   "version": "3.11.2"
  },
  "orig_nbformat": 4
 },
 "nbformat": 4,
 "nbformat_minor": 2
}
