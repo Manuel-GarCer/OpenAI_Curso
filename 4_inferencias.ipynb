{
 "cells": [
  {
   "attachments": {},
   "cell_type": "markdown",
   "metadata": {},
   "source": [
    "# Inferir\n",
    "En esta lección, inferirás sentimientos y temas a partir de reseñas de productos y artículos de noticias.\n",
    "\n",
    "Configurar"
   ]
  },
  {
   "cell_type": "code",
   "execution_count": 1,
   "metadata": {},
   "outputs": [],
   "source": [
    "import openai\n",
    "\n",
    "import os\n",
    "\n",
    "\n",
    "from IPython.display import display, HTML\n",
    "\n",
    "\n",
    "\n",
    "openai.api_key = \"TU_API_KEY creada en https://platform.openai.com\"\n",
    "\n",
    "def get_completion(prompt, model=\"gpt-3.5-turbo\"):\n",
    "    messages = [{\"role\": \"user\", \"content\": prompt}]\n",
    "    response = openai.ChatCompletion.create(\n",
    "        model=model,\n",
    "        messages=messages,\n",
    "        temperature=0, # es el grado de aleatoriedad de los resultados del modelo\n",
    "    )\n",
    "    return response.choices[0].message[\"content\"]"
   ]
  },
  {
   "cell_type": "code",
   "execution_count": 2,
   "metadata": {},
   "outputs": [],
   "source": [
    "lamp_review = \"\"\"\n",
    "Necesitaba una lámpara agradable para mi dormitorio, y éste tenía \n",
    "almacenamiento adicional y no demasiado alto de un punto de precio. \n",
    "Lo recibí rápido.  La cadena de nuestra lámpara se rompió durante el \n",
    "el transporte y la empresa nos envió una nueva. \n",
    "También llegó en pocos días. Fue fácil de\n",
    "montarla.  Me faltaba una pieza, así que me puse en contacto con su soporte técnico y me la consiguieron rápidamente.\n",
    "la pieza que me faltaba. \\\n",
    "Lumina me parece una gran empresa que se preocupa por sus clientes y productos.\n",
    "\"\"\"\n"
   ]
  },
  {
   "attachments": {},
   "cell_type": "markdown",
   "metadata": {},
   "source": [
    "Sentimiento (positivo/negativo)"
   ]
  },
  {
   "cell_type": "code",
   "execution_count": 3,
   "metadata": {},
   "outputs": [
    {
     "name": "stdout",
     "output_type": "stream",
     "text": [
      "El sentimiento de la reseña es positivo y satisfecho con el producto y el servicio al cliente de la empresa.\n"
     ]
    }
   ],
   "source": [
    "prompt = f\"\"\"\n",
    "¿Cuál es el sentimiento de la siguiente reseña de producto, \n",
    "que está delimitada por tres comillas?\n",
    "\n",
    "Review text: '''{lamp_review}'''\n",
    "\"\"\"\n",
    "response = get_completion(prompt)\n",
    "print(response)"
   ]
  },
  {
   "cell_type": "code",
   "execution_count": 4,
   "metadata": {},
   "outputs": [
    {
     "name": "stdout",
     "output_type": "stream",
     "text": [
      "Positivo.\n"
     ]
    }
   ],
   "source": [
    "prompt = f\"\"\"\n",
    "¿Cuál es el sentimiento de la siguiente revisión del producto, \n",
    "que está delimitada por tres comillas?\n",
    "\n",
    "Responda con una sola palabra: \"positivo\" o \"negativo\".\n",
    "\n",
    "Review text: '''{lamp_review}'''\n",
    "\"\"\"\n",
    "response = get_completion(prompt)\n",
    "print(response)"
   ]
  },
  {
   "attachments": {},
   "cell_type": "markdown",
   "metadata": {},
   "source": [
    "Identificar los tipos de emociones"
   ]
  },
  {
   "cell_type": "code",
   "execution_count": 8,
   "metadata": {},
   "outputs": [
    {
     "name": "stdout",
     "output_type": "stream",
     "text": [
      "emociones: agradable, rápido, fácil, gran, preocupación\n",
      "antonimos: desagradable, lento, difícil, pequeño, indiferencia\n"
     ]
    }
   ],
   "source": [
    "prompt = f\"\"\"\n",
    "Identifique una lista de emociones del escritor de la reseña y devuelva sus antonimos. Y No incluya más de\n",
    "cinco elementos en la lista. Escriba su respuesta como una lista de\n",
    "palabras en minúsculas separadas por comas\n",
    "\n",
    "Review text: '''{lamp_review}'''\n",
    "\"\"\"\n",
    "response = get_completion(prompt)\n",
    "print(response)"
   ]
  },
  {
   "attachments": {},
   "cell_type": "markdown",
   "metadata": {},
   "source": [
    "Identificar la ira"
   ]
  },
  {
   "cell_type": "code",
   "execution_count": 7,
   "metadata": {},
   "outputs": [
    {
     "name": "stdout",
     "output_type": "stream",
     "text": [
      "Sí.\n"
     ]
    }
   ],
   "source": [
    "prompt = f\"\"\"\n",
    "¿Está expresando felicidad el autor de la siguiente crítica?\n",
    "La crítica está delimitada por tres puntos suspensivos. \n",
    "Responda sí o no.\n",
    "\n",
    "Review text: '''{lamp_review}'''\n",
    "\"\"\"\n",
    "response = get_completion(prompt)\n",
    "print(response)"
   ]
  },
  {
   "attachments": {},
   "cell_type": "markdown",
   "metadata": {},
   "source": [
    "Extraer el nombre del producto y de la empresa de las opiniones de los clientes"
   ]
  },
  {
   "cell_type": "code",
   "execution_count": 9,
   "metadata": {},
   "outputs": [
    {
     "name": "stdout",
     "output_type": "stream",
     "text": [
      "{\n",
      "  \"Artículo\": \"lámpara\",\n",
      "  \"Marca\": \"Lumina\"\n",
      "}\n"
     ]
    }
   ],
   "source": [
    "prompt = f\"\"\"\n",
    "Identifique los siguientes artículos del texto de revisión: \n",
    "- Artículo adquirido por el autor de la reseña\n",
    "- Empresa que fabricó el artículo\n",
    "\n",
    "La reseña está delimitada por tres puntos suspensivos. \\\n",
    "Formatee su respuesta como un objeto JSON con \n",
    "\"Artículo\" y \"Marca\" como claves. \n",
    "Si la información no está presente, utilice \"desconocido\" como valor.\n",
    "Haga su respuesta lo más corta posible.\n",
    "  \n",
    "Review text: '''{lamp_review}'''\n",
    "\"\"\"\n",
    "response = get_completion(prompt)\n",
    "print(response)"
   ]
  },
  {
   "attachments": {},
   "cell_type": "markdown",
   "metadata": {},
   "source": [
    "Realizar varias tareas a la vez"
   ]
  },
  {
   "cell_type": "code",
   "execution_count": 16,
   "metadata": {},
   "outputs": [
    {
     "name": "stdout",
     "output_type": "stream",
     "text": [
      "{\n",
      "  \"Sentimiento\": \"positivo\",\n",
      "  \"Enfado\": false,\n",
      "  \"Artículo\": \"lámpara\",\n",
      "  \"Marca\": \"Lumina\",\n",
      "  \"antonimo\": \"negativo\"\n",
      "}\n"
     ]
    }
   ],
   "source": [
    "prompt = f\"\"\"\n",
    "Identifique los siguientes elementos del texto de la reseña: \n",
    "- Sentimiento (positivo o negativo) y luego escriba su antonimo\n",
    "- ¿Expresa enfado el autor de la crítica? (verdadero o falso) y luego escriba su antonimo\n",
    "- Artículo adquirido por el autor de la reseña\n",
    "- Empresa que fabricó el artículo\n",
    "\n",
    "La reseña se delimita con tres puntos suspensivos. \n",
    "Formatea tu respuesta como un objeto JSON con \n",
    "\"Sentimiento\", \"Enfado\", \"Artículo\" \"Marca\" y \"antonimo\" como claves.\n",
    "Si la información no está presente, utilice \"desconocido\" como valor.\n",
    "\n",
    "Haga su respuesta lo más corta posible.\n",
    "Formatee el valor de Ira como un booleano.\n",
    "\n",
    "Traducción realizada con la versión gratuita del traductor www.DeepL.com/Translator\n",
    "\n",
    "Review text: '''{lamp_review}'''\n",
    "\"\"\"\n",
    "response = get_completion(prompt)\n",
    "print(response)"
   ]
  },
  {
   "attachments": {},
   "cell_type": "markdown",
   "metadata": {},
   "source": [
    "Inferir temas"
   ]
  },
  {
   "cell_type": "code",
   "execution_count": 17,
   "metadata": {},
   "outputs": [],
   "source": [
    "story = \"\"\"\n",
    "En una reciente encuesta realizada por el Gobierno \n",
    "se pidió a los empleados del sector público que evaluaran su nivel \n",
    "de satisfacción con el departamento en el que trabajan. \n",
    "Los resultados revelaron que la NASA era el departamento \n",
    "con un índice de satisfacción del 95%.\n",
    "\n",
    "Un empleado de la NASA, John Smith, comentó los resultados, \n",
    "No me sorprende que la NASA haya quedado en primer lugar. \n",
    "Es un gran lugar para trabajar, con gente increíble y \n",
    "oportunidades increíbles. Estoy orgulloso de formar parte de \n",
    "una organización tan innovadora\".\n",
    "\n",
    "Los resultados también fueron acogidos con satisfacción por el equipo directivo de la NASA, \n",
    "El Director Tom Johnson declaró: \"Estamos encantados de saber que nuestros empleados están satisfechos con su trabajo en la NASA. \n",
    "Tenemos un equipo talentoso y dedicado que trabaja incansablemente \n",
    "para lograr nuestros objetivos, y es fantástico ver que su duro trabajo está dando sus frutos\". \n",
    "\n",
    "La encuesta también reveló que la \n",
    "Administración de la Seguridad Social obtuvo el \n",
    "satisfacción, con sólo un 45% de empleados satisfechos con su trabajo. \n",
    "La Administración se ha comprometido a \n",
    "abordar las preocupaciones planteadas por los empleados en la encuesta y \n",
    "para mejorar la satisfacción laboral en todos los departamentos.\n",
    "\"\"\""
   ]
  },
  {
   "attachments": {},
   "cell_type": "markdown",
   "metadata": {},
   "source": [
    "Inferir 5 temas"
   ]
  },
  {
   "cell_type": "code",
   "execution_count": 18,
   "metadata": {},
   "outputs": [
    {
     "name": "stdout",
     "output_type": "stream",
     "text": [
      "Encuesta, satisfacción laboral, NASA, Administración de la Seguridad Social, equipo directivo.\n"
     ]
    }
   ],
   "source": [
    "prompt = f\"\"\"\n",
    "Determine cinco temas de los que se habla en el \n",
    "texto siguiente, que está delimitado por tres puntos suspensivos.\n",
    "\n",
    "Cada tema debe tener una o dos palabras. \n",
    "\n",
    "Presente su respuesta como una lista de elementos separados por comas.\n",
    "\n",
    "Text sample: '''{story}'''\n",
    "\"\"\"\n",
    "response = get_completion(prompt)\n",
    "print(response)"
   ]
  },
  {
   "cell_type": "code",
   "execution_count": 19,
   "metadata": {},
   "outputs": [
    {
     "data": {
      "text/plain": [
       "['Encuesta',\n",
       " ' satisfacción laboral',\n",
       " ' NASA',\n",
       " ' Administración de la Seguridad Social',\n",
       " ' equipo directivo.']"
      ]
     },
     "execution_count": 19,
     "metadata": {},
     "output_type": "execute_result"
    }
   ],
   "source": [
    "response.split(sep=',')"
   ]
  },
  {
   "cell_type": "code",
   "execution_count": 23,
   "metadata": {},
   "outputs": [],
   "source": [
    "topic_list = [\n",
    "    \"nasa\", \"gobierno local\", \"enfermeria\", \n",
    "    \"satisfacción de los empleados\", \"gobierno federal\"\n",
    "]"
   ]
  },
  {
   "attachments": {},
   "cell_type": "markdown",
   "metadata": {},
   "source": [
    "Alerta de noticias sobre determinados temas"
   ]
  },
  {
   "cell_type": "code",
   "execution_count": 24,
   "metadata": {},
   "outputs": [
    {
     "name": "stdout",
     "output_type": "stream",
     "text": [
      "- nasa: 1\n",
      "- gobierno local: 0\n",
      "- enfermeria: 0\n",
      "- satisfacción de los empleados: 1\n",
      "- gobierno federal: 1\n"
     ]
    }
   ],
   "source": [
    "prompt = f\"\"\"\n",
    "Determine si cada uno de los puntos de la siguiente lista \n",
    "es un tema en el texto siguiente, que\n",
    "está delimitado por tres puntos suspensivos.\n",
    "\n",
    "Dé su respuesta en forma de lista con 0 o 1 para cada tema.\n",
    "\n",
    "List of topics: {\", \".join(topic_list)}\n",
    "\n",
    "Text sample: '''{story}'''\n",
    "\"\"\"\n",
    "response = get_completion(prompt)\n",
    "print(response)"
   ]
  },
  {
   "cell_type": "code",
   "execution_count": 31,
   "metadata": {},
   "outputs": [
    {
     "ename": "KeyError",
     "evalue": "'nasa'",
     "output_type": "error",
     "traceback": [
      "\u001b[1;31m---------------------------------------------------------------------------\u001b[0m",
      "\u001b[1;31mKeyError\u001b[0m                                  Traceback (most recent call last)",
      "Cell \u001b[1;32mIn[31], line 2\u001b[0m\n\u001b[0;32m      1\u001b[0m topic_lict \u001b[39m=\u001b[39m {i\u001b[39m.\u001b[39msplit(\u001b[39m'\u001b[39m\u001b[39m: \u001b[39m\u001b[39m'\u001b[39m)[\u001b[39m0\u001b[39m]: \u001b[39mint\u001b[39m(i\u001b[39m.\u001b[39msplit(\u001b[39m'\u001b[39m\u001b[39m: \u001b[39m\u001b[39m'\u001b[39m)[\u001b[39m1\u001b[39m]) \u001b[39mfor\u001b[39;00m i \u001b[39min\u001b[39;00m response\u001b[39m.\u001b[39msplit(sep\u001b[39m=\u001b[39m\u001b[39m'\u001b[39m\u001b[39m\\n\u001b[39;00m\u001b[39m'\u001b[39m)}\n\u001b[1;32m----> 2\u001b[0m \u001b[39mif\u001b[39;00m topic_lict[\u001b[39m'\u001b[39;49m\u001b[39mnasa\u001b[39;49m\u001b[39m'\u001b[39;49m] \u001b[39m==\u001b[39m \u001b[39m1\u001b[39m:\n\u001b[0;32m      3\u001b[0m     \u001b[39mprint\u001b[39m(\u001b[39m\"\u001b[39m\u001b[39mALERT: New NASA story!\u001b[39m\u001b[39m\"\u001b[39m)\n",
      "\u001b[1;31mKeyError\u001b[0m: 'nasa'"
     ]
    }
   ],
   "source": [
    "topic_lict = {i.split(': ')[0]: int(i.split(': ')[1]) for i in response.split(sep='\\n')}\n",
    "if topic_lict['nasa'] == 1:\n",
    "    print(\"ALERT: New NASA story!\")"
   ]
  }
 ],
 "metadata": {
  "kernelspec": {
   "display_name": "Python 3",
   "language": "python",
   "name": "python3"
  },
  "language_info": {
   "codemirror_mode": {
    "name": "ipython",
    "version": 3
   },
   "file_extension": ".py",
   "mimetype": "text/x-python",
   "name": "python",
   "nbconvert_exporter": "python",
   "pygments_lexer": "ipython3",
   "version": "3.11.2"
  },
  "orig_nbformat": 4
 },
 "nbformat": 4,
 "nbformat_minor": 2
}
