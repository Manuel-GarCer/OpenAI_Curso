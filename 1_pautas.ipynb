{
 "cells": [
  {
   "attachments": {},
   "cell_type": "markdown",
   "metadata": {},
   "source": [
    "# OpenAI CURSO\n",
    "\n",
    "## Pautas"
   ]
  },
  {
   "attachments": {},
   "cell_type": "markdown",
   "metadata": {},
   "source": [
    "Pautas para la orientación¶\n",
    "En esta lección, pondrá en práctica dos principios y sus tácticas para escribir instrucciones eficaces para modelos lingüísticos de gran tamaño.\n",
    "\n",
    "Configuración\n",
    "Cargue la clave API y las librerías Python relevantes.\n",
    "En este curso, hemos proporcionado un código que carga la clave API de OpenAI.\n",
    "\n",
    "\n",
    "función helper¶\n",
    "A lo largo de este curso, utilizaremos el modelo gpt-3.5-turbo de OpenAI y el endpoint de finalizaciones de chat.\n",
    "\n",
    "Esta función de ayuda hará más fácil el uso de prompts y ver las salidas generadas:"
   ]
  },
  {
   "cell_type": "code",
   "execution_count": 3,
   "metadata": {},
   "outputs": [],
   "source": [
    "import openai\n",
    "\n",
    "openai.api_key =  \"TU_API_KEY creada en https://platform.openai.com\"\n",
    "\n",
    "\n",
    "def get_completion(prompt, model=\"gpt-3.5-turbo\"):\n",
    "    messages = [{\"role\": \"user\", \"content\": prompt}]\n",
    "    response = openai.ChatCompletion.create(\n",
    "        model=model,\n",
    "        messages=messages,\n",
    "        temperature=0, # es el grado de aleatoriedad de los resultados del modelo\n",
    "    )\n",
    "    return response.choices[0].message[\"content\"]"
   ]
  },
  {
   "attachments": {},
   "cell_type": "markdown",
   "metadata": {},
   "source": [
    "Principios de incitación¶\n",
    "Principio 1: Escriba instrucciones claras y específicas\n",
    "Principio 2: Dar tiempo al modelo para \"pensar\"\n",
    "Tácticas\n",
    "Táctica 1: Utilizar delimitadores para indicar claramente las distintas partes de la entrada.\n",
    "Los delimitadores pueden ser ```, \"\"\", < >, <tag> </tag>, :"
   ]
  },
  {
   "cell_type": "code",
   "execution_count": 4,
   "metadata": {},
   "outputs": [
    {
     "name": "stdout",
     "output_type": "stream",
     "text": [
      "Es importante dar instrucciones claras y específicas al modelo para obtener respuestas relevantes y reducir las posibilidades de recibir respuestas irrelevantes o incorrectas, y no confundir la claridad con la brevedad, ya que instrucciones más largas pueden proporcionar más contexto y dar lugar a respuestas más detalladas y relevantes.\n"
     ]
    }
   ],
   "source": [
    "text = f\"\"\"\n",
    "Debe expresar lo que quiere que haga un modelo proporcionando instrucciones tan claras como sea posible. \n",
    "instrucciones tan claras y específicas \n",
    "tan claras y específicas como sea posible. \\ \n",
    "Esto guiará al modelo hacia la salida deseada, y reducirá las posibilidades de recibir instrucciones irrelevantes. \n",
    "y reducirá las posibilidades de recibir respuestas irrelevantes o incorrectas. \n",
    "irrelevantes o incorrectas. No confunda escribir una \n",
    "No confunda escribir un mensaje claro con escribir un mensaje corto. \\ \n",
    "En muchos casos, las instrucciones más largas proporcionan más claridad y contexto para el modelo, lo que puede dar lugar a respuestas más claras. \n",
    "y contexto para el modelo, lo que puede conducir a \n",
    "resultados más detallados y relevantes.\n",
    "\"\"\"\n",
    "prompt = f\"\"\"\n",
    "Resume el texto delimitado por tres puntos \\ \n",
    "en una sola frase.\n",
    "```{text}```\n",
    "\"\"\"\n",
    "response = get_completion (prompt)\n",
    "print(response)"
   ]
  },
  {
   "attachments": {},
   "cell_type": "markdown",
   "metadata": {},
   "source": [
    "Táctica 2: Pedir una salida estructurada¶\n",
    "JSON, HTML\n"
   ]
  },
  {
   "cell_type": "code",
   "execution_count": 5,
   "metadata": {},
   "outputs": [
    {
     "name": "stdout",
     "output_type": "stream",
     "text": [
      "[\n",
      "  {\n",
      "    \"book_id\": 1,\n",
      "    \"title\": \"El jardín de las mariposas\",\n",
      "    \"author\": \"Ana García\",\n",
      "    \"genero\": \"Drama\"\n",
      "  },\n",
      "  {\n",
      "    \"book_id\": 2,\n",
      "    \"title\": \"La ciudad de los sueños\",\n",
      "    \"author\": \"Carlos Pérez\",\n",
      "    \"genero\": \"Ciencia ficción\"\n",
      "  },\n",
      "  {\n",
      "    \"book_id\": 3,\n",
      "    \"title\": \"El secreto de la montaña\",\n",
      "    \"author\": \"María López\",\n",
      "    \"genero\": \"Misterio\"\n",
      "  }\n",
      "]\n"
     ]
    }
   ],
   "source": [
    "prompt = f\"\"\"\n",
    "Genere una lista de tres títulos de libros inventados junto \\ \n",
    "con sus autores y géneros. \n",
    "Proporciónelos en formato JSON con las siguientes claves: \n",
    "book_id, title, author, genero\n",
    "\"\"\"\n",
    "response = get_completion(prompt)\n",
    "print(response)"
   ]
  },
  {
   "attachments": {},
   "cell_type": "markdown",
   "metadata": {},
   "source": [
    "Táctica 3: Pedir al modelo que compruebe si se cumplen las condiciones"
   ]
  },
  {
   "cell_type": "code",
   "execution_count": 6,
   "metadata": {},
   "outputs": [
    {
     "name": "stdout",
     "output_type": "stream",
     "text": [
      "Finalización del texto 1:\n",
      "Paso 1 - Obtener agua hirviendo.\n",
      "Paso 2 - Mientras tanto, coger una taza y poner una bolsita de té en ella.\n",
      "Paso 3 - Cuando el agua esté lo suficientemente caliente, verterla sobre la bolsita de té.\n",
      "Paso 4 - Dejar reposar un rato para que el té se infusione.\n",
      "Paso 5 - Después de unos minutos, sacar la bolsita.\n",
      "Paso 6 - Si se desea, añadir un poco de azúcar o leche al gusto.\n",
      "Paso 7 - ¡Listo! Ya se tiene una deliciosa taza de té para disfrutar.\n"
     ]
    }
   ],
   "source": [
    "text_1 = f\"\"\"\n",
    "Preparar una taza de té es muy fácil. En primer lugar, usted necesita para obtener algunos \\ \n",
    "agua hirviendo. Mientras eso sucede, \\ \n",
    "coge una taza y pon una bolsita de té en ella. Cuando el agua esté \n",
    "lo suficientemente caliente, viértela sobre la bolsita de té. \\ \n",
    "Déjalo reposar un rato para que el té se infusione. Después de \n",
    "minutos, saca la bolsita. Si quieres \n",
    "Si quieres, puedes añadir un poco de azúcar o leche al gusto. \\ \n",
    "Y ¡listo! Ya tienes una deliciosa \n",
    "taza de té para disfrutar.\n",
    "\"\"\"\n",
    "prompt = f\"\"\"\n",
    "Se le proporcionará un texto delimitado por comillas triples. \n",
    "Si contiene una secuencia de instrucciones, \\ \n",
    "reescriba esas instrucciones en el siguiente formato:\n",
    "\n",
    "Paso 1 - ...\n",
    "Paso 2 - ...\n",
    "...\n",
    "Paso N - ...\n",
    "\n",
    "Si el texto no contiene una secuencia de instrucciones, \\ \n",
    "entonces simplemente escriba \\ \"No se proporcionan pasos.\\\"\n",
    "\n",
    "\\\"\\\"\\\"{text_1}\"\\\"\\\"\\\"\n",
    "\"\"\"\n",
    "response = get_completion (prompt)\n",
    "print(\"Finalización del texto 1:\")\n",
    "print(response)"
   ]
  },
  {
   "attachments": {},
   "cell_type": "markdown",
   "metadata": {},
   "source": [
    "Táctica 4: \"Pocos tiros\" de aviso"
   ]
  },
  {
   "cell_type": "code",
   "execution_count": 7,
   "metadata": {},
   "outputs": [
    {
     "name": "stdout",
     "output_type": "stream",
     "text": [
      "<abuelo>: La resiliencia es como un árbol que se dobla con el viento, pero no se quiebra. Es la capacidad de adaptarse y superar los desafíos que la vida nos presenta. Como el ave fénix que renace de sus cenizas, la resiliencia nos permite levantarnos después de una caída y seguir adelante con más fuerza y determinación. Es una habilidad que se puede cultivar y fortalecer con el tiempo y la práctica.\n"
     ]
    }
   ],
   "source": [
    "prompt = f\"\"\"\n",
    "Tu tarea es responder con un estilo coherente.\n",
    "\n",
    "<niño>: Enséñame sobre la paciencia.\n",
    "\n",
    "<abuelo>: El río que esculpe el más profundo \\ \n",
    "valle más profundo fluye de un modesto manantial. \n",
    "más grandiosa sinfonía se origina en una sola nota; \\ \n",
    "el tapiz más intrincado comienza con un hilo solitario.\n",
    "\n",
    "<child>: Enséñame sobre la resiliencia.\n",
    "\"\"\"\n",
    "response = get_completion (prompt)\n",
    "print(response)"
   ]
  },
  {
   "attachments": {},
   "cell_type": "markdown",
   "metadata": {},
   "source": [
    "Principio 2: Dar tiempo al modelo para \"pensar\"\n",
    "Táctica 1: Especificar los pasos necesarios para completar una tarea"
   ]
  },
  {
   "cell_type": "code",
   "execution_count": 8,
   "metadata": {},
   "outputs": [
    {
     "name": "stdout",
     "output_type": "stream",
     "text": [
      "Respuesta a la pregunta 1:\n",
      "1 - Jack y Jill buscan agua en un pozo, pero sufren un accidente y regresan a casa maltrechos pero con espíritus aventureros intactos.\n",
      "2 - Jack et Jill cherchent de l'eau dans un puits, mais ont un accident et rentrent chez eux mal en point mais avec des esprits d'aventure intacts.\n",
      "3 - Jack, Jill.\n",
      "4 - {\n",
      "     \"french_summary\": \"Jack et Jill cherchent de l'eau dans un puits, mais ont un accident et rentrent chez eux mal en point mais avec des esprits d'aventure intacts.\",\n",
      "     \"num_names\": 2\n",
      "   }\n"
     ]
    }
   ],
   "source": [
    "text = f\"\"\"\n",
    "En un encantador pueblo, los hermanos Jack y Jill emprenden \\ \n",
    "a buscar agua de un pozo en lo alto de una colina.\n",
    "Mientras subían, cantando alegremente, la desgracia los golpeó. \n",
    "Jack tropezó con una piedra y cayó colina abajo. \n",
    "y Jill le siguió. \\ \n",
    "Aunque algo maltrecha, la pareja regresó a casa... \n",
    "abrazos reconfortantes. A pesar del percance. \n",
    "sus espíritus aventureros permanecieron intactos, y continuaron \n",
    "siguieron explorando con deleite.\n",
    "\"\"\"\n",
    "# ejemplo 1\n",
    "prompt_1 = f\"\"\"\n",
    "Realice las siguientes acciones: \n",
    "1 - Resumir el siguiente texto delimitado por triple \\\n",
    "con 1 frase.\n",
    "2 - Traduzca el resumen al francés.\n",
    "3 - Listar cada nombre en el resumen francés.\n",
    "4 - Generar un objeto json que contenga lo siguiente\n",
    "claves: french_summary, num_names.\n",
    "\n",
    "Separe sus respuestas con saltos de línea.\n",
    "\n",
    "Texto:\n",
    "```{text}```\n",
    "\"\"\"\n",
    "response = get_completion(prompt_1)\n",
    "print(\"Respuesta a la pregunta 1:\")\n",
    "print(response)"
   ]
  },
  {
   "cell_type": "code",
   "execution_count": 9,
   "metadata": {},
   "outputs": [
    {
     "name": "stdout",
     "output_type": "stream",
     "text": [
      "respuesta para pregunta 2:\n",
      "Resumen: Jack y Jill buscan agua en un pozo, pero sufren un accidente y regresan a casa maltrechos pero con espíritus aventureros intactos.\n",
      "Traducción: Jack et Jill cherchent de l'eau dans un puits, mais ont un accident et rentrent chez eux mal en point mais avec des esprits d'aventure intacts.\n",
      "Nombres: Jack, Jill.\n",
      "JSON de salida: {\"french_summary\": \"Jack et Jill cherchent de l'eau dans un puits, mais ont un accident et rentrent chez eux mal en point mais avec des esprits d'aventure intacts.\", \"num_names\": 2}\n"
     ]
    }
   ],
   "source": [
    "prompt_2 = f\"\"\"\n",
    "Su tarea consiste en realizar las siguientes acciones \n",
    "1 - Resumir el siguiente texto delimitado por \n",
    "  <> con 1 frase.\n",
    "2 - Traduzca el resumen al francés.\n",
    "3 - Listar cada nombre en el resumen francés.\n",
    "4 - Dar salida a un objeto json que contenga las \n",
    "  siguientes claves: french_summary, num_names.\n",
    "\n",
    "Utilice el siguiente formato:\n",
    "Texto: <texto a resumir>\n",
    "Resumen: <resumen>\n",
    "Traducción: <traducción del resumen>\n",
    "Nombres: <lista de nombres en italiano resumen>\n",
    "JSON de salida: <json con resumen y número_nombres>\n",
    "\n",
    "Texto: <{text}>\n",
    "\"\"\"\n",
    "response = get_completion(prompt_2)\n",
    "print(\"respuesta para pregunta 2:\")\n",
    "print(response)"
   ]
  },
  {
   "attachments": {},
   "cell_type": "markdown",
   "metadata": {},
   "source": [
    "Táctica 2: Pedir al modelo que elabore su propia solución antes de llegar a una conclusión precipitada.\n"
   ]
  },
  {
   "cell_type": "code",
   "execution_count": 10,
   "metadata": {},
   "outputs": [
    {
     "name": "stdout",
     "output_type": "stream",
     "text": [
      "La solución del alumno es correcta.\n"
     ]
    }
   ],
   "source": [
    "prompt = f\"\"\"\n",
    "Determine si la solución del alumno es correcta o no.\n",
    "\n",
    "Pregunta:\n",
    "Estoy construyendo una instalación de energía solar y necesito\n",
    " ayuda para calcular los costes. \n",
    "- El terreno cuesta 100 $ / pie cuadrado\n",
    "- Puedo comprar paneles solares por 250 $ / pie cuadrado\n",
    "- He negociado un contrato de mantenimiento que me costará \n",
    "100 mil dólares al año, y 10 dólares adicionales por pie cuadrado.\n",
    "pie cuadrado\n",
    "¿Cuál es el coste total para el primer año de operaciones \n",
    "en función del número de pies cuadrados.\n",
    "\n",
    "Solución del alumno:\n",
    "Sea x el tamaño de la instalación en pies cuadrados.\n",
    "Costes:\n",
    "1. Coste del terreno: 100x\n",
    "2. Coste del panel solar: 250x\n",
    "3. Coste de mantenimiento: 100.000 + 100x\n",
    "Coste total: 100x + 250x + 100.000 + 100x = 450x + 100.000\n",
    "\"\"\"\n",
    "response = get_completion(prompt)\n",
    "print(response)"
   ]
  },
  {
   "attachments": {},
   "cell_type": "markdown",
   "metadata": {},
   "source": [
    "Nótese que la solución del estudiante no es correcta. #\n",
    "Podemos arreglar esto instruyendo al modelo para que elabore su propia solución primero."
   ]
  },
  {
   "cell_type": "code",
   "execution_count": 11,
   "metadata": {},
   "outputs": [
    {
     "name": "stdout",
     "output_type": "stream",
     "text": [
      "La solución del alumno es correcta.\n",
      "\n",
      "Pasos para elaborar la solución:\n",
      "- Identificar los costos involucrados: terreno, paneles solares y mantenimiento.\n",
      "- Calcular el costo del terreno multiplicando el precio por pie cuadrado por el tamaño de la instalación.\n",
      "- Calcular el costo de los paneles solares multiplicando el precio por pie cuadrado por el tamaño de la instalación.\n",
      "- Calcular el costo de mantenimiento sumando el costo fijo anual y el costo por pie cuadrado multiplicado por el tamaño de la instalación.\n",
      "- Sumar los tres costos para obtener el costo total.\n",
      "\n",
      "Solución:\n",
      "Sea x el tamaño de la instalación en pies cuadrados.\n",
      "Costes:\n",
      "1. Coste del terreno: 100x\n",
      "2. Coste del panel solar: 250x\n",
      "3. Coste de mantenimiento: 100.000 + 10x\n",
      "Coste total: 100x + 250x + 100.000 + 10x = 360x + 100.000\n",
      "\n",
      "¿Es la solución del alumno la misma que la solución real que acaba de calcular?\n",
      "Sí.\n",
      "\n",
      "Calificación del alumno:\n",
      "Correcta.\n"
     ]
    }
   ],
   "source": [
    "prompt = f\"\"\"\n",
    "Su tarea es determinar si la solución del estudiante \\\n",
    "es correcta o no.\n",
    "Para resolver el problema haz lo siguiente:\n",
    "- Primero, elabora tu propia solución al problema. \n",
    "- Después compara tu solución con la del alumno \\ \n",
    "y valora si la solución del alumno es correcta o no. \n",
    "No decidas si la solución del alumno es correcta hasta que \n",
    "que hayas resuelto el problema tú mismo.\n",
    "\n",
    "Utiliza el siguiente formato:\n",
    "Pregunta:\n",
    "```\n",
    "pregunta aquí\n",
    "```\n",
    "Solución del alumno:\n",
    "```\n",
    "solución del estudiante aquí\n",
    "```\n",
    "Solución real:\n",
    "```\n",
    "pasos para elaborar la solución y su solución aquí\n",
    "```\n",
    "¿Es la solución del alumno la misma que la solución real \\\n",
    "que acaba de calcular:\n",
    "```\n",
    "sí o no\n",
    "```\n",
    "Calificación del alumno:\n",
    "```\n",
    "correcta o incorrecta\n",
    "```\n",
    "\n",
    "Pregunta:\n",
    "```\n",
    "Estoy construyendo una instalación de energía solar y necesito ayuda para\n",
    "a calcular los costes. \n",
    "- El terreno cuesta 100 $ / pie cuadrado\n",
    "- Puedo comprar paneles solares por $ 250 / pie cuadrado\n",
    "- He negociado un contrato de mantenimiento que me costará\n",
    "100 mil dólares al año, y un adicional de 10 dólares por pie cuadrado.\n",
    "pie cuadrado\n",
    "¿Cuál es el coste total para el primer año de operaciones /\n",
    "en función del número de pies cuadrados.\n",
    "``` \n",
    "Solución del alumno:\n",
    "```\n",
    "Sea x el tamaño de la instalación en pies cuadrados.\n",
    "Costes:\n",
    "1. Coste del terreno: 100x\n",
    "2. Coste del panel solar: 250x\n",
    "3. Coste de mantenimiento: 100.000 + 100x\n",
    "Coste total: 100x + 250x + 100.000 + 100x = 450x + 100.000\n",
    "```\n",
    "Solución real:\n",
    "\"\"\"\n",
    "response = get_completion(prompt)\n",
    "print(response)"
   ]
  },
  {
   "attachments": {},
   "cell_type": "markdown",
   "metadata": {},
   "source": [
    "Limitaciones del modelo: Alucinaciones¶\n",
    "Boie es una empresa real, el nombre del producto no es real."
   ]
  },
  {
   "cell_type": "code",
   "execution_count": 12,
   "metadata": {},
   "outputs": [
    {
     "name": "stdout",
     "output_type": "stream",
     "text": [
      "El cepillo de dientes inteligente AeroGlide UltraSlim de Boie es un cepillo de dientes eléctrico de alta tecnología que utiliza vibraciones sónicas para limpiar los dientes de manera efectiva. Este cepillo de dientes cuenta con un diseño delgado y elegante que lo hace fácil de usar y transportar.\n",
      "\n",
      "El cepillo de dientes inteligente AeroGlide UltraSlim de Boie también cuenta con una batería recargable de larga duración que puede durar hasta 4 semanas con una sola carga. Además, este cepillo de dientes viene con una aplicación móvil que te permite personalizar tu experiencia de cepillado y hacer un seguimiento de tu progreso.\n",
      "\n",
      "El cepillo de dientes inteligente AeroGlide UltraSlim de Boie también está hecho de materiales de alta calidad y es resistente al agua, lo que lo hace fácil de limpiar y mantener. En general, este cepillo de dientes es una excelente opción para aquellos que buscan una experiencia de cepillado de dientes de alta tecnología y efectiva.\n"
     ]
    }
   ],
   "source": [
    "prompt = f\"\"\"\n",
    "Háblame del cepillo de dientes inteligente AeroGlide UltraSlim de Boie\n",
    "\"\"\"\n",
    "response = get_completion(prompt)\n",
    "print(response)"
   ]
  },
  {
   "attachments": {},
   "cell_type": "markdown",
   "metadata": {},
   "source": [
    "Notas sobre el uso de la API OpenAI fuera de esta clase\n",
    "Para instalar la librería OpenAI Python:\n",
    "\n",
    "!pip install openai\n",
    "La librería necesita ser configurada con la clave secreta de tu cuenta, que está disponible en el sitio web.\n",
    "\n",
    "Puedes establecerla como la variable de entorno OPENAI_API_KEY antes de usar la librería:\n",
    "\n",
    " !export OPENAI_API_KEY='sk-...'\n",
    "O bien, establecer openai.api_key a su valor:\n",
    "\n",
    "import openai\n",
    "openai.api_key = \"sk-...\"\n",
    "\n",
    "\n",
    "Una nota sobre la barra invertida¶\n",
    "En el curso, estamos usando una barra invertida \\ para hacer que el texto quepa en la pantalla sin insertar caracteres de nueva línea '\\n'.\n",
    "GPT-3 no se ve realmente afectado si insertas caracteres de nueva línea o no. Pero cuando trabaje con LLMs en general, puede considerar si los caracteres de nueva línea en su prompt pueden afectar el rendimiento del modelo."
   ]
  }
 ],
 "metadata": {
  "kernelspec": {
   "display_name": "Python 3",
   "language": "python",
   "name": "python3"
  },
  "language_info": {
   "codemirror_mode": {
    "name": "ipython",
    "version": 3
   },
   "file_extension": ".py",
   "mimetype": "text/x-python",
   "name": "python",
   "nbconvert_exporter": "python",
   "pygments_lexer": "ipython3",
   "version": "3.11.2"
  },
  "orig_nbformat": 4
 },
 "nbformat": 4,
 "nbformat_minor": 2
}
