{
 "cells": [
  {
   "attachments": {},
   "cell_type": "markdown",
   "metadata": {},
   "source": [
    "# Resumir\n",
    "En esta lección, resumirás un texto centrándote en temas específicos.\n",
    "\n",
    "Configurar"
   ]
  },
  {
   "cell_type": "code",
   "execution_count": 2,
   "metadata": {},
   "outputs": [],
   "source": [
    "import openai\n",
    "\n",
    "import os\n",
    "\n",
    "\n",
    "from IPython.display import display, HTML\n",
    "\n",
    "\n",
    "\n",
    "openai.api_key = \"TU_API_KEY creada en https://platform.openai.com\"\n",
    "\n",
    "def get_completion(prompt, model=\"gpt-3.5-turbo\"):\n",
    "    messages = [{\"role\": \"user\", \"content\": prompt}]\n",
    "    response = openai.ChatCompletion.create(\n",
    "        model=model,\n",
    "        messages=messages,\n",
    "        temperature=0, # es el grado de aleatoriedad de los resultados del modelo\n",
    "    )\n",
    "    return response.choices[0].message[\"content\"]"
   ]
  },
  {
   "attachments": {},
   "cell_type": "markdown",
   "metadata": {},
   "source": [
    "Texto a resumir"
   ]
  },
  {
   "cell_type": "code",
   "execution_count": 5,
   "metadata": {},
   "outputs": [],
   "source": [
    "prod_review = \"\"\"\n",
    "Compré este peluche de panda para el cumpleaños de mi hija, \n",
    "que le encanta y se lo lleva a todas partes. Es suave y \\ \n",
    "y su cara tiene un aspecto simpático. Es un poco pequeño \n",
    "para lo que pagué. Creo que \n",
    "opciones más grandes por el mismo precio. \n",
    "Llegó un día antes de lo esperado. \n",
    "así que pude jugar con él antes de dárselo. \n",
    "a ella.\n",
    "\"\"\""
   ]
  },
  {
   "attachments": {},
   "cell_type": "markdown",
   "metadata": {},
   "source": [
    "Resumir con un límite de palabras/frase/carácter "
   ]
  },
  {
   "cell_type": "code",
   "execution_count": 8,
   "metadata": {},
   "outputs": [
    {
     "name": "stdout",
     "output_type": "stream",
     "text": [
      "Peluche de panda suave y simpático, aunque un poco pequeño para el precio. Llegó un día antes de lo esperado.\n"
     ]
    }
   ],
   "source": [
    "prompt = f\"\"\"\n",
    "Su tarea es generar un breve resumen de un producto \\\n",
    "de un sitio de comercio electrónico. \n",
    "\n",
    "Resuma la reseña que aparece a continuación, delimitada por triple \n",
    "en un máximo de 30 palabras. \n",
    "\n",
    "Reseña: ```{prod_review}```\n",
    "\"\"\"\n",
    "\n",
    "response = get_completion(prompt)\n",
    "print(response)"
   ]
  },
  {
   "attachments": {},
   "cell_type": "markdown",
   "metadata": {},
   "source": [
    "Resumir centrándose en el envío y la entrega"
   ]
  },
  {
   "cell_type": "code",
   "execution_count": 9,
   "metadata": {},
   "outputs": [
    {
     "name": "stdout",
     "output_type": "stream",
     "text": [
      "El peluche de panda es suave y simpático, pero un poco pequeño para el precio. Llegó un día antes de lo esperado.\n"
     ]
    }
   ],
   "source": [
    "prompt = f\"\"\"\n",
    "Su tarea es generar un breve resumen \n",
    "de un producto de un sitio de comercio electrónico para dar información al departamento de envíos.\n",
    "\n",
    "\n",
    "Resuma la reseña a continuación, delimitada por triple \n",
    "en un máximo de 30 palabras, centrándose en cualquier aspecto que mencione el envío y la entrega del producto.\n",
    "que mencionen el envío y la entrega del producto.\n",
    "\n",
    "Review: ```{prod_review}```\n",
    "\"\"\"\n",
    "\n",
    "response = get_completion(prompt)\n",
    "print(response)\n"
   ]
  },
  {
   "attachments": {},
   "cell_type": "markdown",
   "metadata": {},
   "source": [
    "Resumir centrándose en el precio y el valor"
   ]
  },
  {
   "cell_type": "code",
   "execution_count": 10,
   "metadata": {},
   "outputs": [
    {
     "name": "stdout",
     "output_type": "stream",
     "text": [
      "Peluche de panda suave y simpático, pero un poco pequeño para el precio pagado. Se sugiere ofrecer opciones más grandes por el mismo precio. Llegó antes de lo esperado.\n"
     ]
    }
   ],
   "source": [
    "prompt = f\"\"\"\n",
    "Su tarea es generar un breve resumen de un producto \\\n",
    "de un sitio de comercio electrónico para dar su opinión al departamento de precios, responsable de determinar el precio de un producto.\n",
    "\n",
    "\n",
    "Resuma la reseña a continuación, delimitada por triple \n",
    "en un máximo de 30 palabras, centrándose en cualquier aspecto\n",
    "que sean relevantes para el precio y el valor percibido. \n",
    "Review: ```{prod_review}```\n",
    "\"\"\"\n",
    "\n",
    "response = get_completion(prompt)\n",
    "print(response)\n",
    "\n"
   ]
  },
  {
   "attachments": {},
   "cell_type": "markdown",
   "metadata": {},
   "source": [
    "Pruebe con \"extraer\" en lugar de \"resumir\""
   ]
  },
  {
   "cell_type": "code",
   "execution_count": 12,
   "metadata": {},
   "outputs": [
    {
     "name": "stdout",
     "output_type": "stream",
     "text": [
      "Información relevante para el envío y la entrega: \n",
      "- El producto es un peluche de panda. \n",
      "- Fue comprado para el cumpleaños de una niña. \n",
      "- El producto llegó un día antes de lo esperado.\n"
     ]
    }
   ],
   "source": [
    "prompt = f\"\"\"\n",
    "Su tarea consiste en extraer información relevante de \n",
    "una reseña de producto de un sitio de comercio electrónico para dar\n",
    "al departamento de envíos. \n",
    " \n",
    "extraiga la información relevante para el envío y la \n",
    "entrega.\n",
    "De la siguiente reseña, delimitada por comillas triples \n",
    "con límite de 30 palabras. \n",
    "Review: ```{prod_review}```\n",
    "\"\"\"\n",
    "\n",
    "response = get_completion(prompt)\n",
    "print(response)"
   ]
  },
  {
   "attachments": {},
   "cell_type": "markdown",
   "metadata": {},
   "source": [
    "Resumir las reseñas de varios productos"
   ]
  },
  {
   "cell_type": "code",
   "execution_count": 25,
   "metadata": {},
   "outputs": [],
   "source": [
    "review_1 = prod_review\n",
    "# revisión para una lámpara de pie\n",
    "review_2 = \"\"\"\n",
    "Necesitaba una lámpara agradable para mi dormitorio, y éste \n",
    "tenía almacenamiento adicional y no demasiado alto de un precio \n",
    "punto. Lo conseguí rápido - llegó en 2 días. La cuerda\n",
    "de la lámpara se rompió durante el transporte y la empresa \n",
    "envió una nueva. Llegó en pocos días\n",
    "también. Fue fácil de montar. Luego me faltaba una pieza.\n",
    "así que me puse en contacto con su apoyo y que \\\n",
    "y rápidamente me consiguieron la pieza que faltaba. Me parece\n",
    "ser una gran empresa que se preocupa por sus clientes y productos. \n",
    "\"\"\"\n",
    "\n",
    "# revisión para un cepillo de dientes eléctrico\n",
    "review_3 = \"\"\"\n",
    "Mi higienista dental me recomendó un cepillo de dientes eléctrico, \n",
    "que es por eso que tengo esto. La duración de la batería parece ser\n",
    "bastante impresionante hasta ahora. Después de la carga inicial y\n",
    "dejar el cargador enchufado durante la primera semana para \n",
    "acondicionar la batería, he desenchufado el cargador y\n",
    "y lo he estado usando dos veces al día durante las últimas 3 semanas con la misma carga.\n",
    "Pero el cabezal del cepillo\n",
    "es demasiado pequeño. He visto cepillos para bebés más grandes que este. Me gustaría que el cabezal fuera más grande con cerdas de diferente longitud para llegar mejor entre los dientes.\n",
    "este no lo hace.  En general, si puedes conseguirlo\n",
    "alrededor de los 50 dólares, es un buen negocio. Los cabezales de repuesto\n",
    "del fabricante son bastante caros, pero puedes conseguir\n",
    "genéricos que tienen un precio más razonable. Este cepillo\n",
    "me hace sentir como si hubiera ido al dentista todos los días.\n",
    "Mis dientes están relucientemente limpios. \n",
    "\"\"\"\n",
    "\n",
    "# reseña para una batidora\n",
    "review_4 = \"\"\"\n",
    "Por lo tanto, todavía tenían el sistema de 17 piezas en venta de temporada...\n",
    "venta por alrededor de $ 49 en el mes de noviembre, sobre \\\n",
    "la mitad de descuento, pero por alguna razón (llámalo gouging precio) \\\n",
    "alrededor de la segunda semana de diciembre todos los precios subieron\n",
    "hasta alrededor de cualquier lugar entre $ 70- $ 89 para el mismo sistema. Y el sistema de 11 piezas subió alrededor de $ 10 o más\n",
    "así que en el precio también desde el precio de venta anterior de $ 29.\n",
    "Así que se ve bien, pero si nos fijamos en la base, la parte...\n",
    "donde la hoja se bloquea en su lugar no se ve tan bien\n",
    "como en ediciones anteriores de hace unos años, pero yo \\\n",
    "plan para ser muy suave con ella (por ejemplo, yo aplastar \\\n",
    " yo trituro cosas muy duras como judías, hielo, arroz, etc. primero en la batidora y luego las pulverizo. \n",
    "en la licuadora, luego los pulverizo en el tamaño de ración \\\n",
    "que quiero en la batidora, luego cambio a la cuchilla de batir \\\n",
    "para obtener una harina más fina, y utilice la cuchilla de corte transversal \\\n",
    "primero cuando haga batidos, luego uso la cuchilla plana \\\n",
    "si los necesito más finos/menos pulposos). Consejo especial\n",
    "batidos, cortar finamente y congelar las frutas y \\\n",
    "verduras (si usas espinacas, cocínalas ligeramente para ablandarlas y congélalas hasta que estén listas). \n",
    "las espinacas y congélalas hasta que estén listas para su uso).\n",
    "sorbete, utiliza un robot de cocina pequeño o mediano) \\ \n",
    "así evitará añadir tanto hielo, si es que lo hace.\n",
    "mucho hielo -si es que lo hay- al hacer el batido. \\\n",
    "Al cabo de un año, el motor empezó a hacer un ruido raro. \\\n",
    "Llamé al servicio de atención al cliente, pero la garantía ya había expirado.\n",
    "así que tuve que comprar otra. Para su información\n",
    "la calidad general de este tipo de productos ha ido a la baja, así que\n",
    "que son una especie de contar con el reconocimiento de marca y \\\n",
    "lealtad del consumidor para mantener las ventas. Lo tengo en unos\n",
    "dos días.\n",
    "\"\"\"\n",
    "\n",
    "reviews = [review_1, review_2, review_3, review_4]"
   ]
  },
  {
   "cell_type": "code",
   "execution_count": 26,
   "metadata": {},
   "outputs": [
    {
     "name": "stdout",
     "output_type": "stream",
     "text": [
      "0 Peluche de panda suave y simpático, aunque un poco pequeño para el precio. Llegó antes de lo esperado. \n",
      "\n",
      "1 Lámpara con almacenamiento adicional, envío rápido y excelente servicio al cliente. Fácil de montar y buena calidad. \n",
      "\n",
      "2 Reseña de cepillo de dientes eléctrico con buena duración de batería, pero cabezal pequeño y caros repuestos del fabricante. \n",
      "\n"
     ]
    },
    {
     "ename": "RateLimitError",
     "evalue": "Rate limit reached for default-gpt-3.5-turbo in organization org-YG9DvrcbgCZxwYiVfadFGe3s on requests per min. Limit: 3 / min. Please try again in 20s. Contact us through our help center at help.openai.com if you continue to have issues. Please add a payment method to your account to increase your rate limit. Visit https://platform.openai.com/account/billing to add a payment method.",
     "output_type": "error",
     "traceback": [
      "\u001b[1;31m---------------------------------------------------------------------------\u001b[0m",
      "\u001b[1;31mRateLimitError\u001b[0m                            Traceback (most recent call last)",
      "Cell \u001b[1;32mIn[26], line 10\u001b[0m\n\u001b[0;32m      1\u001b[0m \u001b[39mfor\u001b[39;00m i \u001b[39min\u001b[39;00m \u001b[39mrange\u001b[39m(\u001b[39mlen\u001b[39m(reviews)):\n\u001b[0;32m      2\u001b[0m     prompt \u001b[39m=\u001b[39m \u001b[39mf\u001b[39m\u001b[39m\"\"\"\u001b[39m\n\u001b[0;32m      3\u001b[0m \u001b[39m    Su tarea es generar un breve resumen en un máximo de 20 palabras de un producto \u001b[39m\n\u001b[0;32m      4\u001b[0m \u001b[39m    de un sitio de comercio electrónico. \u001b[39m\n\u001b[1;32m   (...)\u001b[0m\n\u001b[0;32m      7\u001b[0m \u001b[39m    Review: ```\u001b[39m\u001b[39m{\u001b[39;00mreviews[i]\u001b[39m}\u001b[39;00m\u001b[39m```\u001b[39m\n\u001b[0;32m      8\u001b[0m \u001b[39m    \u001b[39m\u001b[39m\"\"\"\u001b[39m\n\u001b[1;32m---> 10\u001b[0m     response \u001b[39m=\u001b[39m get_completion(prompt)\n\u001b[0;32m     11\u001b[0m     \u001b[39mprint\u001b[39m(i, response, \u001b[39m\"\u001b[39m\u001b[39m\\n\u001b[39;00m\u001b[39m\"\u001b[39m)\n",
      "Cell \u001b[1;32mIn[2], line 14\u001b[0m, in \u001b[0;36mget_completion\u001b[1;34m(prompt, model)\u001b[0m\n\u001b[0;32m     12\u001b[0m \u001b[39mdef\u001b[39;00m \u001b[39mget_completion\u001b[39m(prompt, model\u001b[39m=\u001b[39m\u001b[39m\"\u001b[39m\u001b[39mgpt-3.5-turbo\u001b[39m\u001b[39m\"\u001b[39m):\n\u001b[0;32m     13\u001b[0m     messages \u001b[39m=\u001b[39m [{\u001b[39m\"\u001b[39m\u001b[39mrole\u001b[39m\u001b[39m\"\u001b[39m: \u001b[39m\"\u001b[39m\u001b[39muser\u001b[39m\u001b[39m\"\u001b[39m, \u001b[39m\"\u001b[39m\u001b[39mcontent\u001b[39m\u001b[39m\"\u001b[39m: prompt}]\n\u001b[1;32m---> 14\u001b[0m     response \u001b[39m=\u001b[39m openai\u001b[39m.\u001b[39;49mChatCompletion\u001b[39m.\u001b[39;49mcreate(\n\u001b[0;32m     15\u001b[0m         model\u001b[39m=\u001b[39;49mmodel,\n\u001b[0;32m     16\u001b[0m         messages\u001b[39m=\u001b[39;49mmessages,\n\u001b[0;32m     17\u001b[0m         temperature\u001b[39m=\u001b[39;49m\u001b[39m0\u001b[39;49m, \u001b[39m# es el grado de aleatoriedad de los resultados del modelo\u001b[39;49;00m\n\u001b[0;32m     18\u001b[0m     )\n\u001b[0;32m     19\u001b[0m     \u001b[39mreturn\u001b[39;00m response\u001b[39m.\u001b[39mchoices[\u001b[39m0\u001b[39m]\u001b[39m.\u001b[39mmessage[\u001b[39m\"\u001b[39m\u001b[39mcontent\u001b[39m\u001b[39m\"\u001b[39m]\n",
      "File \u001b[1;32mc:\\Python311\\Lib\\site-packages\\openai\\api_resources\\chat_completion.py:25\u001b[0m, in \u001b[0;36mChatCompletion.create\u001b[1;34m(cls, *args, **kwargs)\u001b[0m\n\u001b[0;32m     23\u001b[0m \u001b[39mwhile\u001b[39;00m \u001b[39mTrue\u001b[39;00m:\n\u001b[0;32m     24\u001b[0m     \u001b[39mtry\u001b[39;00m:\n\u001b[1;32m---> 25\u001b[0m         \u001b[39mreturn\u001b[39;00m \u001b[39msuper\u001b[39;49m()\u001b[39m.\u001b[39;49mcreate(\u001b[39m*\u001b[39;49margs, \u001b[39m*\u001b[39;49m\u001b[39m*\u001b[39;49mkwargs)\n\u001b[0;32m     26\u001b[0m     \u001b[39mexcept\u001b[39;00m TryAgain \u001b[39mas\u001b[39;00m e:\n\u001b[0;32m     27\u001b[0m         \u001b[39mif\u001b[39;00m timeout \u001b[39mis\u001b[39;00m \u001b[39mnot\u001b[39;00m \u001b[39mNone\u001b[39;00m \u001b[39mand\u001b[39;00m time\u001b[39m.\u001b[39mtime() \u001b[39m>\u001b[39m start \u001b[39m+\u001b[39m timeout:\n",
      "File \u001b[1;32mc:\\Python311\\Lib\\site-packages\\openai\\api_resources\\abstract\\engine_api_resource.py:153\u001b[0m, in \u001b[0;36mEngineAPIResource.create\u001b[1;34m(cls, api_key, api_base, api_type, request_id, api_version, organization, **params)\u001b[0m\n\u001b[0;32m    127\u001b[0m \u001b[39m@classmethod\u001b[39m\n\u001b[0;32m    128\u001b[0m \u001b[39mdef\u001b[39;00m \u001b[39mcreate\u001b[39m(\n\u001b[0;32m    129\u001b[0m     \u001b[39mcls\u001b[39m,\n\u001b[1;32m   (...)\u001b[0m\n\u001b[0;32m    136\u001b[0m     \u001b[39m*\u001b[39m\u001b[39m*\u001b[39mparams,\n\u001b[0;32m    137\u001b[0m ):\n\u001b[0;32m    138\u001b[0m     (\n\u001b[0;32m    139\u001b[0m         deployment_id,\n\u001b[0;32m    140\u001b[0m         engine,\n\u001b[1;32m   (...)\u001b[0m\n\u001b[0;32m    150\u001b[0m         api_key, api_base, api_type, api_version, organization, \u001b[39m*\u001b[39m\u001b[39m*\u001b[39mparams\n\u001b[0;32m    151\u001b[0m     )\n\u001b[1;32m--> 153\u001b[0m     response, _, api_key \u001b[39m=\u001b[39m requestor\u001b[39m.\u001b[39;49mrequest(\n\u001b[0;32m    154\u001b[0m         \u001b[39m\"\u001b[39;49m\u001b[39mpost\u001b[39;49m\u001b[39m\"\u001b[39;49m,\n\u001b[0;32m    155\u001b[0m         url,\n\u001b[0;32m    156\u001b[0m         params\u001b[39m=\u001b[39;49mparams,\n\u001b[0;32m    157\u001b[0m         headers\u001b[39m=\u001b[39;49mheaders,\n\u001b[0;32m    158\u001b[0m         stream\u001b[39m=\u001b[39;49mstream,\n\u001b[0;32m    159\u001b[0m         request_id\u001b[39m=\u001b[39;49mrequest_id,\n\u001b[0;32m    160\u001b[0m         request_timeout\u001b[39m=\u001b[39;49mrequest_timeout,\n\u001b[0;32m    161\u001b[0m     )\n\u001b[0;32m    163\u001b[0m     \u001b[39mif\u001b[39;00m stream:\n\u001b[0;32m    164\u001b[0m         \u001b[39m# must be an iterator\u001b[39;00m\n\u001b[0;32m    165\u001b[0m         \u001b[39massert\u001b[39;00m \u001b[39mnot\u001b[39;00m \u001b[39misinstance\u001b[39m(response, OpenAIResponse)\n",
      "File \u001b[1;32mc:\\Python311\\Lib\\site-packages\\openai\\api_requestor.py:230\u001b[0m, in \u001b[0;36mAPIRequestor.request\u001b[1;34m(self, method, url, params, headers, files, stream, request_id, request_timeout)\u001b[0m\n\u001b[0;32m    209\u001b[0m \u001b[39mdef\u001b[39;00m \u001b[39mrequest\u001b[39m(\n\u001b[0;32m    210\u001b[0m     \u001b[39mself\u001b[39m,\n\u001b[0;32m    211\u001b[0m     method,\n\u001b[1;32m   (...)\u001b[0m\n\u001b[0;32m    218\u001b[0m     request_timeout: Optional[Union[\u001b[39mfloat\u001b[39m, Tuple[\u001b[39mfloat\u001b[39m, \u001b[39mfloat\u001b[39m]]] \u001b[39m=\u001b[39m \u001b[39mNone\u001b[39;00m,\n\u001b[0;32m    219\u001b[0m ) \u001b[39m-\u001b[39m\u001b[39m>\u001b[39m Tuple[Union[OpenAIResponse, Iterator[OpenAIResponse]], \u001b[39mbool\u001b[39m, \u001b[39mstr\u001b[39m]:\n\u001b[0;32m    220\u001b[0m     result \u001b[39m=\u001b[39m \u001b[39mself\u001b[39m\u001b[39m.\u001b[39mrequest_raw(\n\u001b[0;32m    221\u001b[0m         method\u001b[39m.\u001b[39mlower(),\n\u001b[0;32m    222\u001b[0m         url,\n\u001b[1;32m   (...)\u001b[0m\n\u001b[0;32m    228\u001b[0m         request_timeout\u001b[39m=\u001b[39mrequest_timeout,\n\u001b[0;32m    229\u001b[0m     )\n\u001b[1;32m--> 230\u001b[0m     resp, got_stream \u001b[39m=\u001b[39m \u001b[39mself\u001b[39;49m\u001b[39m.\u001b[39;49m_interpret_response(result, stream)\n\u001b[0;32m    231\u001b[0m     \u001b[39mreturn\u001b[39;00m resp, got_stream, \u001b[39mself\u001b[39m\u001b[39m.\u001b[39mapi_key\n",
      "File \u001b[1;32mc:\\Python311\\Lib\\site-packages\\openai\\api_requestor.py:624\u001b[0m, in \u001b[0;36mAPIRequestor._interpret_response\u001b[1;34m(self, result, stream)\u001b[0m\n\u001b[0;32m    616\u001b[0m     \u001b[39mreturn\u001b[39;00m (\n\u001b[0;32m    617\u001b[0m         \u001b[39mself\u001b[39m\u001b[39m.\u001b[39m_interpret_response_line(\n\u001b[0;32m    618\u001b[0m             line, result\u001b[39m.\u001b[39mstatus_code, result\u001b[39m.\u001b[39mheaders, stream\u001b[39m=\u001b[39m\u001b[39mTrue\u001b[39;00m\n\u001b[0;32m    619\u001b[0m         )\n\u001b[0;32m    620\u001b[0m         \u001b[39mfor\u001b[39;00m line \u001b[39min\u001b[39;00m parse_stream(result\u001b[39m.\u001b[39miter_lines())\n\u001b[0;32m    621\u001b[0m     ), \u001b[39mTrue\u001b[39;00m\n\u001b[0;32m    622\u001b[0m \u001b[39melse\u001b[39;00m:\n\u001b[0;32m    623\u001b[0m     \u001b[39mreturn\u001b[39;00m (\n\u001b[1;32m--> 624\u001b[0m         \u001b[39mself\u001b[39;49m\u001b[39m.\u001b[39;49m_interpret_response_line(\n\u001b[0;32m    625\u001b[0m             result\u001b[39m.\u001b[39;49mcontent\u001b[39m.\u001b[39;49mdecode(\u001b[39m\"\u001b[39;49m\u001b[39mutf-8\u001b[39;49m\u001b[39m\"\u001b[39;49m),\n\u001b[0;32m    626\u001b[0m             result\u001b[39m.\u001b[39;49mstatus_code,\n\u001b[0;32m    627\u001b[0m             result\u001b[39m.\u001b[39;49mheaders,\n\u001b[0;32m    628\u001b[0m             stream\u001b[39m=\u001b[39;49m\u001b[39mFalse\u001b[39;49;00m,\n\u001b[0;32m    629\u001b[0m         ),\n\u001b[0;32m    630\u001b[0m         \u001b[39mFalse\u001b[39;00m,\n\u001b[0;32m    631\u001b[0m     )\n",
      "File \u001b[1;32mc:\\Python311\\Lib\\site-packages\\openai\\api_requestor.py:687\u001b[0m, in \u001b[0;36mAPIRequestor._interpret_response_line\u001b[1;34m(self, rbody, rcode, rheaders, stream)\u001b[0m\n\u001b[0;32m    685\u001b[0m stream_error \u001b[39m=\u001b[39m stream \u001b[39mand\u001b[39;00m \u001b[39m\"\u001b[39m\u001b[39merror\u001b[39m\u001b[39m\"\u001b[39m \u001b[39min\u001b[39;00m resp\u001b[39m.\u001b[39mdata\n\u001b[0;32m    686\u001b[0m \u001b[39mif\u001b[39;00m stream_error \u001b[39mor\u001b[39;00m \u001b[39mnot\u001b[39;00m \u001b[39m200\u001b[39m \u001b[39m<\u001b[39m\u001b[39m=\u001b[39m rcode \u001b[39m<\u001b[39m \u001b[39m300\u001b[39m:\n\u001b[1;32m--> 687\u001b[0m     \u001b[39mraise\u001b[39;00m \u001b[39mself\u001b[39m\u001b[39m.\u001b[39mhandle_error_response(\n\u001b[0;32m    688\u001b[0m         rbody, rcode, resp\u001b[39m.\u001b[39mdata, rheaders, stream_error\u001b[39m=\u001b[39mstream_error\n\u001b[0;32m    689\u001b[0m     )\n\u001b[0;32m    690\u001b[0m \u001b[39mreturn\u001b[39;00m resp\n",
      "\u001b[1;31mRateLimitError\u001b[0m: Rate limit reached for default-gpt-3.5-turbo in organization org-YG9DvrcbgCZxwYiVfadFGe3s on requests per min. Limit: 3 / min. Please try again in 20s. Contact us through our help center at help.openai.com if you continue to have issues. Please add a payment method to your account to increase your rate limit. Visit https://platform.openai.com/account/billing to add a payment method."
     ]
    }
   ],
   "source": [
    "for i in range(len(reviews)):\n",
    "    prompt = f\"\"\"\n",
    "    Su tarea es generar un breve resumen en un máximo de 20 palabras de un producto \n",
    "    de un sitio de comercio electrónico. \n",
    "    Haga un resumen de la reseña a continuación, delimitada por triple  \n",
    "      \n",
    "    Review: ```{reviews[i]}```\n",
    "    \"\"\"\n",
    "\n",
    "    response = get_completion(prompt)\n",
    "    print(i, response, \"\\n\")\n"
   ]
  }
 ],
 "metadata": {
  "kernelspec": {
   "display_name": "Python 3",
   "language": "python",
   "name": "python3"
  },
  "language_info": {
   "codemirror_mode": {
    "name": "ipython",
    "version": 3
   },
   "file_extension": ".py",
   "mimetype": "text/x-python",
   "name": "python",
   "nbconvert_exporter": "python",
   "pygments_lexer": "ipython3",
   "version": "3.11.2"
  },
  "orig_nbformat": 4
 },
 "nbformat": 4,
 "nbformat_minor": 2
}
